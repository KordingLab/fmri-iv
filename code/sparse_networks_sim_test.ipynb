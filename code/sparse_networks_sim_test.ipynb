{
 "cells": [
  {
   "cell_type": "code",
   "execution_count": 1,
   "metadata": {},
   "outputs": [],
   "source": [
    "%matplotlib inline\n",
    "import os.path\n",
    "import contextlib\n",
    "import numpy as np\n",
    "from scipy import stats\n",
    "import matplotlib.pyplot as plt\n",
    "\n",
    "import network_sim as netsim\n",
    "import iv_analysis as iv\n",
    "\n",
    "# deal with matplotlib bugs\n",
    "def try_twice(fn):\n",
    "    try:\n",
    "        return fn()\n",
    "    except np.linalg.LinAlgError:\n",
    "        return fn()"
   ]
  },
  {
   "cell_type": "markdown",
   "metadata": {},
   "source": [
    "## We want to simulate many networks with a relatively large number of variables, to test different ratios of observed to unobserved variables.\n",
    "\n",
    "* 6 variables of interest\n",
    "* observable ratios from 100 down to 5%\n",
    "\n",
    "### Create parameter set"
   ]
  },
  {
   "cell_type": "code",
   "execution_count": 6,
   "metadata": {},
   "outputs": [],
   "source": [
    "n_rois = 6\n",
    "n_observed = np.linspace(n_rois, 20 * n_rois, 20)\n",
    "n_regions = int(max(n_observed))\n",
    "frac_observed = n_observed / n_regions\n",
    "\n",
    "n_trials = 200\n",
    "n_time = 500\n",
    "\n",
    "iv_prob = 0.025\n",
    "iv_gain = 0.3\n",
    "spt = 5"
   ]
  },
  {
   "cell_type": "markdown",
   "metadata": {},
   "source": [
    "### Do trials for each set of parameters"
   ]
  },
  {
   "cell_type": "code",
   "execution_count": 7,
   "metadata": {},
   "outputs": [],
   "source": [
    "def seeded_sim_network(seed: np.uint32=None):\n",
    "    \"\"\"Simulate network with specific rng seed\"\"\"\n",
    "    \n",
    "    if seed is not None:\n",
    "        assert np.isscalar(seed), 'Seed must be a scalar'\n",
    "        np.random.seed(seed)\n",
    "    \n",
    "    con_mat = netsim.gen_con_mat(n_regions, net_type='smallworld')\n",
    "    return netsim.sim_network(\n",
    "        con_mat=con_mat,\n",
    "        n_time=n_time,\n",
    "        iv_prob=iv_prob,\n",
    "        iv_gain=iv_gain,\n",
    "        steps_per_time=spt\n",
    "    )\n",
    "\n",
    "result_file = '../data_sim/activations_sparse.npz'\n",
    "\n",
    "if not os.path.exists(result_file):\n",
    "    \n",
    "    seeds = np.random.randint(0, 2 ** 32, dtype=np.uint32, size=n_trials)\n",
    "    con_mat = np.ndarray((n_trials, n_regions, n_regions))\n",
    "    log_act = np.ndarray((n_trials, n_regions, n_time))\n",
    "    iv = np.ndarray((n_trials, n_regions, n_time))\n",
    "    \n",
    "    for i in range(n_trials):\n",
    "        \n",
    "        # generate network and simulate\n",
    "        log_act[i], iv[i], con_mat[i] = seeded_sim_network(seeds[i])\n",
    "        \n",
    "    np.savez(result_file, seeds=seeds, con_mat=con_mat, log_act=log_act, iv=iv)"
   ]
  },
  {
   "cell_type": "markdown",
   "metadata": {},
   "source": [
    "## Analysis\n",
    "\n",
    "For each method, "
   ]
  }
 ],
 "metadata": {
  "kernelspec": {
   "display_name": "Python 3",
   "language": "python",
   "name": "python3"
  },
  "language_info": {
   "codemirror_mode": {
    "name": "ipython",
    "version": 3
   },
   "file_extension": ".py",
   "mimetype": "text/x-python",
   "name": "python",
   "nbconvert_exporter": "python",
   "pygments_lexer": "ipython3",
   "version": "3.7.4"
  }
 },
 "nbformat": 4,
 "nbformat_minor": 2
}
